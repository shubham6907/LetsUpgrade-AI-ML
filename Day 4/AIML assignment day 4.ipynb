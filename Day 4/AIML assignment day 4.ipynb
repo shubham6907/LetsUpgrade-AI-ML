{
 "cells": [
  {
   "cell_type": "raw",
   "metadata": {},
   "source": [
    "Research on whether addition, subtraction, multiplication, division, floor division, and modulo operations\n",
    "be performed on complex numbers. Based on your study, implement a Python program to demonstrate\n",
    "these operations"
   ]
  },
  {
   "cell_type": "markdown",
   "metadata": {},
   "source": [
    "A complex number is created from real numbers. Python complex number can be created either using direct assignment statement or by using complex () function. Complex numbers which are mostly used where we are using two real numbers.\n",
    "We can do simple mathematical calculations on complex numbers: Addition, Subtraction, Multiplication, Division.\n",
    "However, complex numbers don’t support comparison operators like <, >, <=, => and it will throw TypeError message.\n",
    "Use built-in abs() function to get the modulus of complex number.\n",
    "In Python 3 you can't compute floor division of complex numbers anymore.\n"
   ]
  },
  {
   "cell_type": "code",
   "execution_count": 9,
   "metadata": {},
   "outputs": [
    {
     "name": "stdout",
     "output_type": "stream",
     "text": [
      "Addition of two complex number = (9+21j)\n",
      "Subtraction of two complex number = (-3-9j)\n",
      "Multiplication of two complex number = (-72+81j)\n",
      "Division of two complex number = (0.4137931034482759-0.03448275862068964j)\n",
      "The modulus of  (3+6j)  is 6.708203932499369\n"
     ]
    }
   ],
   "source": [
    "c1 = 3 + 6j\n",
    "c2 = 6 + 15j\n",
    "print(\"Addition of two complex number =\", c1 + c2)\n",
    "print(\"Subtraction of two complex number =\", c1 - c2)\n",
    "print(\"Multiplication of two complex number =\", c1 * c2)\n",
    "print(\"Division of two complex number =\", c1 / c2)\n",
    "print(\"The modulus of \",c1,\" is\", abs(c1))"
   ]
  },
  {
   "cell_type": "raw",
   "metadata": {},
   "source": [
    "Research on range() functions and its parameters. Create a markdown cell and write in your own words\n",
    "(no copy-paste from google please) what you understand about it. Implement a small program of your\n",
    "choice on the same"
   ]
  },
  {
   "cell_type": "markdown",
   "metadata": {},
   "source": [
    "range(start, stop, step):\n",
    "\n",
    "All argument in range function must be integers. we can not pass a string or float number or any other type in a start, stop and step argument of a range(). All three arguments can be positive or negative. The step value must not be zero. If a step is zero Python raises a ValueError exception."
   ]
  },
  {
   "cell_type": "code",
   "execution_count": 6,
   "metadata": {},
   "outputs": [
    {
     "name": "stdout",
     "output_type": "stream",
     "text": [
      "4\n",
      "8\n",
      "12\n",
      "16\n",
      "20\n",
      "24\n",
      "28\n",
      "32\n",
      "36\n",
      "40\n"
     ]
    }
   ],
   "source": [
    "for i in range(4,41,4):\n",
    "    print(i) # multiples of  4"
   ]
  },
  {
   "cell_type": "raw",
   "metadata": {},
   "source": [
    "Consider two numbers. Perform their subtraction and if the result of subtraction is greater than 25, print\n",
    "their multiplication result else print their division result"
   ]
  },
  {
   "cell_type": "code",
   "execution_count": 3,
   "metadata": {},
   "outputs": [
    {
     "name": "stdout",
     "output_type": "stream",
     "text": [
      "2.0\n"
     ]
    }
   ],
   "source": [
    "a=10\n",
    "b=5\n",
    "c=a-b\n",
    "if c>25:\n",
    "    print(a*b)\n",
    "else:\n",
    "    print(a/b)"
   ]
  },
  {
   "cell_type": "raw",
   "metadata": {},
   "source": [
    "Consider a list of 10 elements of integer values. If the number in the list is divisible by 2, print the result as\n",
    "\"square of that number minus 2\""
   ]
  },
  {
   "cell_type": "code",
   "execution_count": 2,
   "metadata": {},
   "outputs": [
    {
     "name": "stdout",
     "output_type": "stream",
     "text": [
      "2\n",
      "14\n",
      "62\n",
      "142\n"
     ]
    }
   ],
   "source": [
    "l=[2,4,8,12,17,13,3,19,29,27]\n",
    "for i in l:\n",
    "    if i%2==0:\n",
    "        print(pow(i,2)-2)"
   ]
  },
  {
   "cell_type": "raw",
   "metadata": {},
   "source": [
    "Consider a list of 10 elements. Print all the elements in the list which are greater than 7 when that number\n",
    "is divided by 2"
   ]
  },
  {
   "cell_type": "code",
   "execution_count": 1,
   "metadata": {},
   "outputs": [
    {
     "name": "stdout",
     "output_type": "stream",
     "text": [
      "17\n",
      "19\n",
      "29\n",
      "27\n"
     ]
    }
   ],
   "source": [
    "l=[2,4,8,12,17,13,3,19,29,27]\n",
    "for i in l:\n",
    "    if i/2>7:\n",
    "        print(i)"
   ]
  }
 ],
 "metadata": {
  "kernelspec": {
   "display_name": "Python 3",
   "language": "python",
   "name": "python3"
  },
  "language_info": {
   "codemirror_mode": {
    "name": "ipython",
    "version": 3
   },
   "file_extension": ".py",
   "mimetype": "text/x-python",
   "name": "python",
   "nbconvert_exporter": "python",
   "pygments_lexer": "ipython3",
   "version": "3.8.0"
  }
 },
 "nbformat": 4,
 "nbformat_minor": 4
}
