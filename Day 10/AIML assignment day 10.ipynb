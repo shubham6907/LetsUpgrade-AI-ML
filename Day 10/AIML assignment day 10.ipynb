{
  "nbformat": 4,
  "nbformat_minor": 0,
  "metadata": {
    "colab": {
      "name": "AIML assignment day 10.ipynb",
      "provenance": [],
      "collapsed_sections": []
    },
    "kernelspec": {
      "name": "python3",
      "display_name": "Python 3"
    }
  },
  "cells": [
    {
      "cell_type": "markdown",
      "metadata": {
        "id": "yx_jRuUIGKCh",
        "colab_type": "text"
      },
      "source": [
        "# Question 1:\n",
        "Create an element-wise comparison (greater, greater_equal, less and less_equal) of two given arrays"
      ]
    },
    {
      "cell_type": "code",
      "metadata": {
        "id": "zvWnYb6tkQF9",
        "colab_type": "code",
        "colab": {
          "base_uri": "https://localhost:8080/",
          "height": 204
        },
        "outputId": "766c8d6b-f960-4e83-9a9f-35c469b5aae4"
      },
      "source": [
        "import numpy as np\n",
        "x = np.array([3, 5])\n",
        "y = np.array([2, 5])\n",
        "print(\"Original numbers:\")\n",
        "print(x)\n",
        "print(y)\n",
        "print(\"Comparison - greater\")\n",
        "print(np.greater(x, y))\n",
        "print(\"Comparison - greater_equal\")\n",
        "print(np.greater_equal(x, y))\n",
        "print(\"Comparison - less\")\n",
        "print(np.less(x, y))\n",
        "print(\"Comparison - less_equal\")\n",
        "print(np.less_equal(x, y))"
      ],
      "execution_count": 1,
      "outputs": [
        {
          "output_type": "stream",
          "text": [
            "Original numbers:\n",
            "[3 5]\n",
            "[2 5]\n",
            "Comparison - greater\n",
            "[ True False]\n",
            "Comparison - greater_equal\n",
            "[ True  True]\n",
            "Comparison - less\n",
            "[False False]\n",
            "Comparison - less_equal\n",
            "[False  True]\n"
          ],
          "name": "stdout"
        }
      ]
    },
    {
      "cell_type": "markdown",
      "metadata": {
        "id": "zzMQnlXEGw_s",
        "colab_type": "text"
      },
      "source": [
        "# Question 2:\n",
        "Write a NumPy program to create an array of 10 zeros,10 ones, 10 fives"
      ]
    },
    {
      "cell_type": "code",
      "metadata": {
        "id": "5pL0BOGQG4y_",
        "colab_type": "code",
        "colab": {
          "base_uri": "https://localhost:8080/",
          "height": 68
        },
        "outputId": "73022a35-db2f-481c-ebd2-9eb2e71fe5dc"
      },
      "source": [
        "a=np.zeros(10)\n",
        "print(a)\n",
        "b=np.ones(10)\n",
        "print(b)\n",
        "c=np.full(10,5)\n",
        "print(c)"
      ],
      "execution_count": 5,
      "outputs": [
        {
          "output_type": "stream",
          "text": [
            "[0. 0. 0. 0. 0. 0. 0. 0. 0. 0.]\n",
            "[1. 1. 1. 1. 1. 1. 1. 1. 1. 1.]\n",
            "[5 5 5 5 5 5 5 5 5 5]\n"
          ],
          "name": "stdout"
        }
      ]
    },
    {
      "cell_type": "markdown",
      "metadata": {
        "id": "ipR8a8F5Hw-O",
        "colab_type": "text"
      },
      "source": [
        "# Question 3:\n",
        "Write a NumPy program to compute sum of all elements, sum of each column and sum of each row of a\n",
        "given array"
      ]
    },
    {
      "cell_type": "code",
      "metadata": {
        "id": "DnX6ZqSTH3mh",
        "colab_type": "code",
        "colab": {
          "base_uri": "https://localhost:8080/",
          "height": 170
        },
        "outputId": "de9ac823-7680-4023-c17c-6388d3375546"
      },
      "source": [
        "x = np.array([[0,1],[2,3]])\n",
        "print(\"Original array:\")\n",
        "print(x)\n",
        "print(\"Sum of all elements:\")\n",
        "print(np.sum(x))\n",
        "print(\"Sum of each column:\")\n",
        "print(np.sum(x, axis=0))\n",
        "print(\"Sum of each row:\")\n",
        "print(np.sum(x, axis=1))"
      ],
      "execution_count": 6,
      "outputs": [
        {
          "output_type": "stream",
          "text": [
            "Original array:\n",
            "[[0 1]\n",
            " [2 3]]\n",
            "Sum of all elements:\n",
            "6\n",
            "Sum of each column:\n",
            "[2 4]\n",
            "Sum of each row:\n",
            "[1 5]\n"
          ],
          "name": "stdout"
        }
      ]
    },
    {
      "cell_type": "markdown",
      "metadata": {
        "id": "KxmnZopqIOx8",
        "colab_type": "text"
      },
      "source": [
        "# Question 4:\n",
        "Write a NumPy program to add, subtract, multiply, divide arguments element-wise."
      ]
    },
    {
      "cell_type": "code",
      "metadata": {
        "id": "gzEAo7dgIV-w",
        "colab_type": "code",
        "colab": {
          "base_uri": "https://localhost:8080/",
          "height": 153
        },
        "outputId": "404e1bcc-a3d8-45a4-aaa0-bf10513c3681"
      },
      "source": [
        "print(\"Add:\")\n",
        "print(np.add(1.0, 4.0))\n",
        "print(\"Subtract:\")\n",
        "print(np.subtract(1.0, 4.0))\n",
        "print(\"Multiply:\")\n",
        "print(np.multiply(1.0, 4.0))\n",
        "print(\"Divide:\")\n",
        "print(np.divide(1.0, 4.0))"
      ],
      "execution_count": 7,
      "outputs": [
        {
          "output_type": "stream",
          "text": [
            "Add:\n",
            "5.0\n",
            "Subtract:\n",
            "-3.0\n",
            "Multiply:\n",
            "4.0\n",
            "Divide:\n",
            "0.25\n"
          ],
          "name": "stdout"
        }
      ]
    },
    {
      "cell_type": "markdown",
      "metadata": {
        "id": "00d_AH1gIows",
        "colab_type": "text"
      },
      "source": [
        "# Question 5:\n",
        "Write a NumPy program to compute the trigonometric sine, cosine and tangent array of angles given in\n",
        "degree."
      ]
    },
    {
      "cell_type": "code",
      "metadata": {
        "id": "uHHOFX-MIw9E",
        "colab_type": "code",
        "colab": {
          "base_uri": "https://localhost:8080/",
          "height": 153
        },
        "outputId": "a0d73ee3-d67d-4c03-dde9-391a81c9362c"
      },
      "source": [
        "print(\"sine: array of angles given in degrees\")\n",
        "print(np.sin(np.array((0., 30., 45., 60., 90.)) * np.pi / 180.))\n",
        "print(\"cosine: array of angles given in degrees\")\n",
        "print(np.cos(np.array((0., 30., 45., 60., 90.)) * np.pi / 180.))\n",
        "print(\"tangent: array of angles given in degrees\")\n",
        "print(np.tan(np.array((0., 30., 45., 60., 90.)) * np.pi / 180.))"
      ],
      "execution_count": 8,
      "outputs": [
        {
          "output_type": "stream",
          "text": [
            "sine: array of angles given in degrees\n",
            "[0.         0.5        0.70710678 0.8660254  1.        ]\n",
            "cosine: array of angles given in degrees\n",
            "[1.00000000e+00 8.66025404e-01 7.07106781e-01 5.00000000e-01\n",
            " 6.12323400e-17]\n",
            "tangent: array of angles given in degrees\n",
            "[0.00000000e+00 5.77350269e-01 1.00000000e+00 1.73205081e+00\n",
            " 1.63312394e+16]\n"
          ],
          "name": "stdout"
        }
      ]
    },
    {
      "cell_type": "markdown",
      "metadata": {
        "id": "U02Tm8uCI_3z",
        "colab_type": "text"
      },
      "source": [
        "# Question 6:\n",
        "Write a Pandas program to create and display a DataFrame from a specified dictionary data which has the\n",
        "index labels"
      ]
    },
    {
      "cell_type": "code",
      "metadata": {
        "id": "UtFDfgLOJHpC",
        "colab_type": "code",
        "colab": {
          "base_uri": "https://localhost:8080/",
          "height": 204
        },
        "outputId": "fa47c653-2c6b-4931-b2c9-da25abbc3c6e"
      },
      "source": [
        "import pandas as pd\n",
        "\n",
        "exam_data  = {'name': ['Anastasia', 'Dima', 'Katherine', 'James', 'Emily', 'Michael', 'Matthew', 'Laura', 'Kevin', 'Jonas'],\n",
        "        'score': [12.5, 9, 16.5, np.nan, 9, 20, 14.5, np.nan, 8, 19],\n",
        "        'attempts': [1, 3, 2, 3, 2, 3, 1, 1, 2, 1],\n",
        "        'qualify': ['yes', 'no', 'yes', 'no', 'no', 'yes', 'yes', 'no', 'no', 'yes']}\n",
        "labels = ['a', 'b', 'c', 'd', 'e', 'f', 'g', 'h', 'i', 'j']\n",
        "\n",
        "df = pd.DataFrame(exam_data , index=labels)\n",
        "print(df)"
      ],
      "execution_count": 9,
      "outputs": [
        {
          "output_type": "stream",
          "text": [
            "        name  score  attempts qualify\n",
            "a  Anastasia   12.5         1     yes\n",
            "b       Dima    9.0         3      no\n",
            "c  Katherine   16.5         2     yes\n",
            "d      James    NaN         3      no\n",
            "e      Emily    9.0         2      no\n",
            "f    Michael   20.0         3     yes\n",
            "g    Matthew   14.5         1     yes\n",
            "h      Laura    NaN         1      no\n",
            "i      Kevin    8.0         2      no\n",
            "j      Jonas   19.0         1     yes\n"
          ],
          "name": "stdout"
        }
      ]
    },
    {
      "cell_type": "markdown",
      "metadata": {
        "id": "Z6Dak1hjJYFb",
        "colab_type": "text"
      },
      "source": [
        "# Question 7:\n",
        "Write a Pandas program to select the 'name' and 'score' columns from the following DataFrame.\n"
      ]
    },
    {
      "cell_type": "code",
      "metadata": {
        "id": "ubMRWiIZJeL_",
        "colab_type": "code",
        "colab": {
          "base_uri": "https://localhost:8080/",
          "height": 221
        },
        "outputId": "0b776cd9-38ef-4606-91aa-ea3401bfb4c7"
      },
      "source": [
        "exam_data  = {'name': ['Anastasia', 'Dima', 'Katherine', 'James', 'Emily', 'Michael', 'Matthew', 'Laura', 'Kevin', 'Jonas'],\n",
        "        'score': [12.5, 9, 16.5, np.nan, 9, 20, 14.5, np.nan, 8, 19],\n",
        "        'attempts': [1, 3, 2, 3, 2, 3, 1, 1, 2, 1],\n",
        "        'qualify': ['yes', 'no', 'yes', 'no', 'no', 'yes', 'yes', 'no', 'no', 'yes']}\n",
        "labels = ['a', 'b', 'c', 'd', 'e', 'f', 'g', 'h', 'i', 'j']\n",
        "\n",
        "df = pd.DataFrame(exam_data , index=labels)\n",
        "print(\"Select specific columns:\")\n",
        "print(df[['name', 'score']])"
      ],
      "execution_count": 10,
      "outputs": [
        {
          "output_type": "stream",
          "text": [
            "Select specific columns:\n",
            "        name  score\n",
            "a  Anastasia   12.5\n",
            "b       Dima    9.0\n",
            "c  Katherine   16.5\n",
            "d      James    NaN\n",
            "e      Emily    9.0\n",
            "f    Michael   20.0\n",
            "g    Matthew   14.5\n",
            "h      Laura    NaN\n",
            "i      Kevin    8.0\n",
            "j      Jonas   19.0\n"
          ],
          "name": "stdout"
        }
      ]
    },
    {
      "cell_type": "markdown",
      "metadata": {
        "id": "3GcBagoWJxSl",
        "colab_type": "text"
      },
      "source": [
        "# Question 8:\n",
        "Write a Pandas program to join the two given dataframes along rows and assign all data.\n"
      ]
    },
    {
      "cell_type": "code",
      "metadata": {
        "id": "XzjOAjoyJ1jM",
        "colab_type": "code",
        "colab": {
          "base_uri": "https://localhost:8080/",
          "height": 476
        },
        "outputId": "90da2eb3-bc38-4520-9c45-04c8beb37c99"
      },
      "source": [
        "student_data1 = pd.DataFrame({\n",
        "        'student_id': ['S1', 'S2', 'S3', 'S4', 'S5'],\n",
        "         'name': ['Danniella Fenton', 'Ryder Storey', 'Bryce Jensen', 'Ed Bernal', 'Kwame Morin'], \n",
        "        'marks': [200, 210, 190, 222, 199]})\n",
        "\n",
        "student_data2 = pd.DataFrame({\n",
        "        'student_id': ['S4', 'S5', 'S6', 'S7', 'S8'],\n",
        "        'name': ['Scarlette Fisher', 'Carla Williamson', 'Dante Morse', 'Kaiser William', 'Madeeha Preston'], \n",
        "        'marks': [201, 200, 198, 219, 201]})\n",
        "\n",
        "print(\"Original DataFrames:\")\n",
        "print(student_data1)\n",
        "print(\"-------------------------------------\")\n",
        "print(student_data2)\n",
        "print(\"\\nJoin the said two dataframes along rows:\")\n",
        "result_data = pd.concat([student_data1, student_data2])\n",
        "print(result_data)"
      ],
      "execution_count": 11,
      "outputs": [
        {
          "output_type": "stream",
          "text": [
            "Original DataFrames:\n",
            "  student_id              name  marks\n",
            "0         S1  Danniella Fenton    200\n",
            "1         S2      Ryder Storey    210\n",
            "2         S3      Bryce Jensen    190\n",
            "3         S4         Ed Bernal    222\n",
            "4         S5       Kwame Morin    199\n",
            "-------------------------------------\n",
            "  student_id              name  marks\n",
            "0         S4  Scarlette Fisher    201\n",
            "1         S5  Carla Williamson    200\n",
            "2         S6       Dante Morse    198\n",
            "3         S7    Kaiser William    219\n",
            "4         S8   Madeeha Preston    201\n",
            "\n",
            "Join the said two dataframes along rows:\n",
            "  student_id              name  marks\n",
            "0         S1  Danniella Fenton    200\n",
            "1         S2      Ryder Storey    210\n",
            "2         S3      Bryce Jensen    190\n",
            "3         S4         Ed Bernal    222\n",
            "4         S5       Kwame Morin    199\n",
            "0         S4  Scarlette Fisher    201\n",
            "1         S5  Carla Williamson    200\n",
            "2         S6       Dante Morse    198\n",
            "3         S7    Kaiser William    219\n",
            "4         S8   Madeeha Preston    201\n"
          ],
          "name": "stdout"
        }
      ]
    },
    {
      "cell_type": "markdown",
      "metadata": {
        "id": "8NoqtaArKGIn",
        "colab_type": "text"
      },
      "source": [
        "# Question 9:\n",
        "Write a Pandas program to detect missing values of a given DataFrame. Display True or False.\n"
      ]
    },
    {
      "cell_type": "code",
      "metadata": {
        "id": "TW4KP8m_KL62",
        "colab_type": "code",
        "colab": {
          "base_uri": "https://localhost:8080/",
          "height": 510
        },
        "outputId": "65c00038-b942-4e22-bdde-e1bc66e41507"
      },
      "source": [
        "pd.set_option('display.max_rows', None)\n",
        "#pd.set_option('display.max_columns', None)\n",
        "df = pd.DataFrame({\n",
        "'ord_no':[70001,np.nan,70002,70004,np.nan,70005,np.nan,70010,70003,70012,np.nan,70013],\n",
        "'purch_amt':[150.5,270.65,65.26,110.5,948.5,2400.6,5760,1983.43,2480.4,250.45, 75.29,3045.6],\n",
        "'ord_date': ['2012-10-05','2012-09-10',np.nan,'2012-08-17','2012-09-10','2012-07-27','2012-09-10','2012-10-10','2012-10-10','2012-06-27','2012-08-17','2012-04-25'],\n",
        "'customer_id':[3002,3001,3001,3003,3002,3001,3001,3004,3003,3002,3001,3001],\n",
        "'salesman_id':[5002,5003,5001,np.nan,5002,5001,5001,np.nan,5003,5002,5003,np.nan]})\n",
        "print(\"Original Orders DataFrame:\")\n",
        "print(df)\n",
        "print(\"\\nMissing values of the said dataframe:\")\n",
        "print(df.isna())"
      ],
      "execution_count": 12,
      "outputs": [
        {
          "output_type": "stream",
          "text": [
            "Original Orders DataFrame:\n",
            "     ord_no  purch_amt    ord_date  customer_id  salesman_id\n",
            "0   70001.0     150.50  2012-10-05         3002       5002.0\n",
            "1       NaN     270.65  2012-09-10         3001       5003.0\n",
            "2   70002.0      65.26         NaN         3001       5001.0\n",
            "3   70004.0     110.50  2012-08-17         3003          NaN\n",
            "4       NaN     948.50  2012-09-10         3002       5002.0\n",
            "5   70005.0    2400.60  2012-07-27         3001       5001.0\n",
            "6       NaN    5760.00  2012-09-10         3001       5001.0\n",
            "7   70010.0    1983.43  2012-10-10         3004          NaN\n",
            "8   70003.0    2480.40  2012-10-10         3003       5003.0\n",
            "9   70012.0     250.45  2012-06-27         3002       5002.0\n",
            "10      NaN      75.29  2012-08-17         3001       5003.0\n",
            "11  70013.0    3045.60  2012-04-25         3001          NaN\n",
            "\n",
            "Missing values of the said dataframe:\n",
            "    ord_no  purch_amt  ord_date  customer_id  salesman_id\n",
            "0    False      False     False        False        False\n",
            "1     True      False     False        False        False\n",
            "2    False      False      True        False        False\n",
            "3    False      False     False        False         True\n",
            "4     True      False     False        False        False\n",
            "5    False      False     False        False        False\n",
            "6     True      False     False        False        False\n",
            "7    False      False     False        False         True\n",
            "8    False      False     False        False        False\n",
            "9    False      False     False        False        False\n",
            "10    True      False     False        False        False\n",
            "11   False      False     False        False         True\n"
          ],
          "name": "stdout"
        }
      ]
    },
    {
      "cell_type": "markdown",
      "metadata": {
        "id": "rFyQaygyKaHt",
        "colab_type": "text"
      },
      "source": [
        "# Question 10:\n",
        "Write a Pandas program to create and display a one-dimensional array-like object containing an array of\n",
        "data."
      ]
    },
    {
      "cell_type": "code",
      "metadata": {
        "id": "FrQHqjauKgjB",
        "colab_type": "code",
        "colab": {
          "base_uri": "https://localhost:8080/",
          "height": 119
        },
        "outputId": "c365df72-3aeb-480f-91be-29f26ace4041"
      },
      "source": [
        "ds = pd.Series([2, 4, 6, 8, 10])\n",
        "print(ds)"
      ],
      "execution_count": 13,
      "outputs": [
        {
          "output_type": "stream",
          "text": [
            "0     2\n",
            "1     4\n",
            "2     6\n",
            "3     8\n",
            "4    10\n",
            "dtype: int64\n"
          ],
          "name": "stdout"
        }
      ]
    }
  ]
}