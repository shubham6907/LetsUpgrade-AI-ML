{
 "cells": [
  {
   "cell_type": "markdown",
   "metadata": {},
   "source": [
    "# Question 2:\n",
    "Recreate your own Python NB for “Classes and Objects” from the pdf provided namely\n",
    "“Classes&Objects.pdf"
   ]
  },
  {
   "cell_type": "markdown",
   "metadata": {},
   "source": [
    "# Python ─ Classes and Objects"
   ]
  },
  {
   "cell_type": "markdown",
   "metadata": {},
   "source": [
    "Python has been an object-oriented language since it existed. Because of this,\n",
    "creating and using classes and objects are downright easy. This chapter helps you\n",
    "become an expert in using Python's object-oriented programming support.\n",
    "If you do not have any previous experience with object-oriented (OO) programming,\n",
    "you may want to consult an introductory course on it or at least a tutorial of some\n",
    "sort so that you have a grasp of the basic concepts.\n",
    "However, here is small introduction of Object-Oriented Programming (OOP) to bring\n",
    "you at speed:"
   ]
  },
  {
   "cell_type": "markdown",
   "metadata": {},
   "source": [
    "## Overview of OOP Terminology\n",
    " Class: A user-defined prototype for an object that defines a set of attributes\n",
    "that characterize any object of the class. The attributes are data members\n",
    "(class variables and instance variables) and methods, accessed via dot\n",
    "notation.<br>\n",
    " Class variable: A variable that is shared by all instances of a class. Class\n",
    "variables are defined within a class but outside any of the class's methods.\n",
    "Class variables are not used as frequently as instance variables are.<br>\n",
    " Data member: A class variable or instance variable that holds data associated\n",
    "with a class and its objects.<br>\n",
    " Function overloading: The assignment of more than one behavior to a\n",
    "particular function. The operation performed varies by the types of objects or\n",
    "arguments involved.<br>\n",
    " Instance variable: A variable that is defined inside a method and belongs\n",
    "only to the current instance of a class.<br>\n",
    " Inheritance: The transfer of the characteristics of a class to other classes that\n",
    "are derived from it.<br>\n",
    " Instance: An individual object of a certain class. An object obj that belongs to\n",
    "a class Circle, for example, is an instance of the class Circle.<br>\n",
    " Instantiation: The creation of an instance of a class.<br>\n",
    " Method: A special kind of function that is defined in a class definition.<br>\n",
    " Object: A unique instance of a data structure that's defined by its class. An\n",
    "object comprises both data members (class variables and instance variables)\n",
    "and methods.<br>\n",
    " Operator overloading: The assignment of more than one function to a\n",
    "particular operator.<br>\n",
    "\n"
   ]
  },
  {
   "cell_type": "markdown",
   "metadata": {},
   "source": [
    "## Creating Classes\n",
    "The class statement creates a new class definition. The name of the class immediately\n",
    "follows the keyword class followed by a colon as follows:<br>\n",
    "class ClassName:<br>\n",
    " 'Optional class documentation string'<br>\n",
    " class_suite<br>\n",
    " The class has a documentation string, which can be accessed\n",
    "viaClassName.__doc__.<br>\n",
    " The class_suite consists of all the component statements defining class\n",
    "members, data attributes and functions.<br>\n",
    "\n",
    "## Example\n",
    "Following is the example of a simple Python class:"
   ]
  },
  {
   "cell_type": "code",
   "execution_count": 4,
   "metadata": {},
   "outputs": [],
   "source": [
    "class Employee:\n",
    " #'Common base class for all employees'\n",
    "     empCount = 0\n",
    "     def __init__(self, name, salary):\n",
    "            self.name = name\n",
    "            self.salary = salary\n",
    "            Employee.empCount += 1\n",
    "\n",
    "def displayCount(self):\n",
    "     print (\"Total Employee %d\" % Employee.empCount)\n",
    "def displayEmployee(self):\n",
    "     print (\"Name : \", self.name, \", Salary: \", self.salary)"
   ]
  },
  {
   "cell_type": "markdown",
   "metadata": {},
   "source": [
    " The variable empCount is a class variable whose value is shared among all\n",
    "instances of a this class. This can be accessed as Employee.empCount from\n",
    "inside the class or outside the class.<br>\n",
    " The first method __init__() is a special method, which is called class\n",
    "constructor or initialization method that Python calls when you create a new\n",
    "instance of this class.<br>\n",
    " You declare other class methods like normal functions with the exception that\n",
    "the first argument to each method is self. Python adds the self argument to\n",
    "the list for you; you do not need to include it when you call the methods.\n",
    "\n",
    "## Creating Instance Objects\n",
    "To create instances of a class, you call the class using class name and pass in\n",
    "whatever arguments its __init__ method accepts.<br>\n",
    "\"This would create first object of Employee class\"<br>\n",
    "emp1 = Employee(\"Zara\", 2000)<br>\n",
    "\"This would create second object of Employee class\"<br>\n",
    "emp2 = Employee(\"Manni\", 5000)<br>\n",
    "\n",
    "## Accessing Attributes\n",
    "You access the object's attributes using the dot operator with object. Class variable\n",
    "would be accessed using class name as follows:<br>\n",
    "emp1.displayEmployee()<br>\n",
    "emp2.displayEmployee()<br>\n",
    "print (\"Total Employee %d\" % Employee.empCount)<br>\n",
    "### Now, putting all the concepts together:"
   ]
  },
  {
   "cell_type": "code",
   "execution_count": 12,
   "metadata": {},
   "outputs": [
    {
     "name": "stdout",
     "output_type": "stream",
     "text": [
      "Name :  Zara , Salary:  2000\n",
      "Name :  Manni , Salary:  5000\n",
      "Total Employee 2\n"
     ]
    }
   ],
   "source": [
    "class Employee:\n",
    " #'Common base class for all employees'\n",
    "    empCount = 0\n",
    "    def __init__(self, name, salary):\n",
    "        self.name = name\n",
    "        self.salary = salary\n",
    "        Employee.empCount += 1\n",
    "\n",
    "    def displayCount(self):\n",
    "        print(\"Total Employee %d\" % Employee.empCount)\n",
    "    def displayEmployee(self):\n",
    "        print(\"Name : \", self.name, \", Salary: \", self.salary)\n",
    "#\"This would create first object of Employee class\"\n",
    "emp1 = Employee(\"Zara\", 2000)\n",
    "#\"This would create second object of Employee class\"\n",
    "emp2 = Employee(\"Manni\", 5000)\n",
    "emp1.displayEmployee()\n",
    "emp2.displayEmployee()\n",
    "print(\"Total Employee %d\" % Employee.empCount)\n"
   ]
  },
  {
   "cell_type": "markdown",
   "metadata": {},
   "source": [
    "Instead of using the normal statements to access attributes, you can use the following\n",
    "functions:<br>\n",
    " The getattr(obj, name[, default]) : to access the attribute of object.<br>\n",
    " The hasattr(obj,name) : to check if an attribute exists or not.<br>\n",
    " The setattr(obj,name,value) : to set an attribute. If attribute does not exist,\n",
    "then it would be created.<br>\n",
    " The delattr(obj, name) : to delete an attribute.<br>\n",
    "\n",
    "hasattr(emp1, 'age') # Returns true if 'age' attribute exists<br>\n",
    "getattr(emp1, 'age') # Returns value of 'age' attribute<br>\n",
    "setattr(emp1, 'age', 8) # Set attribute 'age' at 8<br>\n",
    "delattr(empl, 'age') # Delete attribute 'age'<br>\n",
    "\n",
    "## Built-In Class Attributes\n",
    "Every Python class keeps following built-in attributes and they can be accessed using\n",
    "dot operator like any other attribute:<br>\n",
    " __dict__: Dictionary containing the class's namespace.<br>\n",
    " __doc__: Class documentation string or none, if undefined.<br>\n",
    " __name__: Class name.<br>\n",
    " __module__: Module name in which the class is defined. This attribute is\n",
    "\"__main__\" in interactive mode.<br>\n",
    " __bases__: A possibly empty tuple containing the base classes, in the order\n",
    "of their occurrence in the base class list.<br>\n",
    "For the above class let us try to access all these attributes:<br>"
   ]
  },
  {
   "cell_type": "code",
   "execution_count": 13,
   "metadata": {},
   "outputs": [
    {
     "name": "stdout",
     "output_type": "stream",
     "text": [
      "Employee.__doc__: None\n",
      "Employee.__name__: Employee\n",
      "Employee.__module__: __main__\n",
      "Employee.__bases__: (<class 'object'>,)\n",
      "Employee.__dict__: {'__module__': '__main__', 'empCount': 0, '__init__': <function Employee.__init__ at 0x000002A2F590FD30>, 'displayCount': <function Employee.displayCount at 0x000002A2F590FCA0>, 'displayEmployee': <function Employee.displayEmployee at 0x000002A2F590FC10>, '__dict__': <attribute '__dict__' of 'Employee' objects>, '__weakref__': <attribute '__weakref__' of 'Employee' objects>, '__doc__': None}\n"
     ]
    }
   ],
   "source": [
    "class Employee:\n",
    " #'Common base class for all employees'\n",
    "    empCount = 0\n",
    "    def __init__(self, name, salary):\n",
    "        self.name = name\n",
    "        self.salary = salary\n",
    "        Employee.empCount += 1\n",
    "\n",
    "    def displayCount(self):\n",
    "        print(\"Total Employee %d\" % Employee.empCount)\n",
    "    def displayEmployee(self):\n",
    "        print(\"Name : \", self.name, \", Salary: \", self.salary)\n",
    "        \n",
    "print(\"Employee.__doc__:\", Employee.__doc__)\n",
    "print(\"Employee.__name__:\", Employee.__name__)\n",
    "print(\"Employee.__module__:\", Employee.__module__)\n",
    "print(\"Employee.__bases__:\", Employee.__bases__)\n",
    "print(\"Employee.__dict__:\", Employee.__dict__)"
   ]
  },
  {
   "cell_type": "markdown",
   "metadata": {},
   "source": [
    "## Destroying Objects (Garbage Collection)\n",
    "Python deletes unneeded objects (built-in types or class instances) automatically to\n",
    "free the memory space. The process by which Python periodically reclaims blocks of\n",
    "memory that no longer are in use is termed Garbage Collection.<br>\n",
    "Python's garbage collector runs during program execution and is triggered when an\n",
    "object's reference count reaches zero. An object's reference count changes as the\n",
    "number of aliases that point to it changes.<br>\n",
    "An object's reference count increases when it is assigned a new name or placed in a\n",
    "container (list, tuple, or dictionary). The object's reference count decreases when it's\n",
    "deleted with del, its reference is reassigned, or its reference goes out of scope. When\n",
    "an object's reference count reaches zero, Python collects it automatically.<br>\n",
    "a = 40 # Create object <40><br>\n",
    "b = a # Increase ref. count of <40><br>\n",
    "c = [b] # Increase ref. count of <40><br>\n",
    "del a # Decrease ref. count of <40><br>\n",
    "b = 100 # Decrease ref. count of <40> <br>\n",
    "c[0] = -1 # Decrease ref. count of <40><br>\n",
    "You normally will not notice when the garbage collector destroys an orphaned\n",
    "instance and reclaims its space. But a class can implement the special\n",
    "method __del__(), called a destructor, that is invoked when the instance is about to\n",
    "be destroyed. This method might be used to clean up any non-memory resources\n",
    "used by an instance.<br>\n",
    "### Example<br>\n",
    "This __del__() destructor prints the class name of an instance that is about to be\n",
    "destroyed:<br>"
   ]
  },
  {
   "cell_type": "code",
   "execution_count": 14,
   "metadata": {},
   "outputs": [
    {
     "name": "stdout",
     "output_type": "stream",
     "text": [
      "2898927955776 2898927955776 2898927955776\n",
      "Point destroyed\n"
     ]
    }
   ],
   "source": [
    "class Point:\n",
    "    def __init( self, x=0, y=0):\n",
    "        self.x = x\n",
    "        self.y = y\n",
    "    def __del__(self):\n",
    "        class_name = self.__class__.__name__\n",
    "        print(class_name, \"destroyed\")\n",
    "pt1 = Point()\n",
    "pt2 = pt1\n",
    "pt3 = pt1\n",
    "print(id(pt1), id(pt2), id(pt3)) # prints the ids of the obejcts\n",
    "del pt1\n",
    "del pt2\n",
    "del pt3"
   ]
  },
  {
   "cell_type": "markdown",
   "metadata": {},
   "source": [
    "#### Note: Ideally, you should define your classes in separate file, then you should import them in your main program file using import statement. \n",
    "\n",
    "## Class Inheritance\n",
    "Instead of starting from scratch, you can create a class by deriving it from a\n",
    "preexisting class by listing the parent class in parentheses after the new class name.<br>\n",
    "The child class inherits the attributes of its parent class, and you can use those\n",
    "attributes as if they were defined in the child class. A child class can also override\n",
    "data members and methods from the parent.<br>\n",
    "Syntax<br>\n",
    "Derived classes are declared much like their parent class; however, a list of base\n",
    "classes to inherit from is given after the class name:<br>\n",
    "class SubClassName (ParentClass1[, ParentClass2, ...]):<br>\n",
    " 'Optional class documentation string'<br>\n",
    " class_suite<br>\n",
    " \n",
    "### Example"
   ]
  },
  {
   "cell_type": "code",
   "execution_count": 15,
   "metadata": {},
   "outputs": [],
   "source": [
    "class Parent: # define parent class\n",
    "    parentAttr = 100\n",
    "    def __init__(self):\n",
    "        print(\"Calling parent constructor\")\n",
    "    def parentMethod(self):\n",
    "        print('Calling parent method')\n",
    "    def setAttr(self, attr):\n",
    "        Parent.parentAttr = attr\n",
    "    def getAttr(self):\n",
    "        print(\"Parent attribute :\", Parent.parentAttr)\n",
    "\n",
    "class Child(Parent): # define child class\n",
    "    def __init__(self):\n",
    "        print(\"Calling child constructor\")"
   ]
  },
  {
   "cell_type": "markdown",
   "metadata": {},
   "source": [
    "You can use issubclass() or isinstance() functions to check a relationships of two\n",
    "classes and instances.<br>\n",
    " The issubclass(sub, sup) boolean function returns true if the given\n",
    "subclass sub is indeed a subclass of the superclass sup.<br>\n",
    " The isinstance(obj, Class) boolean function returns true if obj is an instance\n",
    "of class Class or is an instance of a subclass of Class<br>\n",
    "## Overriding Methods\n",
    "You can always override your parent class methods. One reason for overriding\n",
    "parent's methods is because you may want special or different functionality in your\n",
    "subclass.<br>"
   ]
  },
  {
   "cell_type": "code",
   "execution_count": 20,
   "metadata": {},
   "outputs": [
    {
     "name": "stdout",
     "output_type": "stream",
     "text": [
      "Calling child method\n"
     ]
    }
   ],
   "source": [
    "class Parent: # define parent class\n",
    "    def myMethod(self):\n",
    "        print('Calling parent method')\n",
    "class Child(Parent): # define child class\n",
    "    def myMethod(self):\n",
    "        print('Calling child method')\n",
    "c = Child() # instance of child\n",
    "c.myMethod() # child calls overridden method"
   ]
  },
  {
   "cell_type": "markdown",
   "metadata": {},
   "source": [
    "## Base Overloading Methods\n",
    "Following table lists some generic functionality that you can override in your own\n",
    "classes:<br>\n",
    "Sr. No. Method, Description, and Sample Call<br>\n",
    "1<br>\n",
    "__init__ ( self [,args...] )<br>\n",
    "Constructor (with any optional arguments)<br>\n",
    "Sample Call : obj = className(args)<br>\n",
    "2<br>\n",
    "__del__( self )<br>\n",
    "Destructor, deletes an object<br>\n",
    "Sample Call : del obj<br>\n",
    "3<br>\n",
    "__repr__( self )<br>\n",
    "Evaluatable string representation<br>\n",
    "Sample Call : repr(obj)<br>\n",
    "4<br>\n",
    "__str__( self )<br>\n",
    "Printable string representation<br>\n",
    "Sample Call : str(obj)<br>\n",
    "5<br>\n",
    "__cmp__ ( self, x )<br>\n",
    "Object comparison<br>\n",
    "Sample Call : cmp(obj, x)<br>\n",
    "\n",
    "## Overloading Operators\n",
    "Suppose you have created a Vector class to represent two-dimensional vectors, what\n",
    "happens when you use the plus operator to add them? Most likely Python will yell at\n",
    "you.<br>\n",
    "You could, however, define the __add__ method in your class to perform vector\n",
    "addition and then the plus operator would behave as per expectation:<br>\n",
    "\n",
    "### Example"
   ]
  },
  {
   "cell_type": "code",
   "execution_count": 21,
   "metadata": {},
   "outputs": [
    {
     "name": "stdout",
     "output_type": "stream",
     "text": [
      "Vector (7, 8)\n"
     ]
    }
   ],
   "source": [
    "class Vector:\n",
    "    def __init__(self, a, b):\n",
    "        self.a = a\n",
    "        self.b = b\n",
    "    def __str__(self):\n",
    "        return 'Vector (%d, %d)' % (self.a, self.b)\n",
    "\n",
    "    def __add__(self,other):\n",
    "        return Vector(self.a + other.a, self.b + other.b)\n",
    "v1 = Vector(2,10)\n",
    "v2 = Vector(5,-2)\n",
    "print(v1 + v2)\n"
   ]
  },
  {
   "cell_type": "markdown",
   "metadata": {},
   "source": [
    "## Data Hiding\n",
    "An object's attributes may or may not be visible outside the class definition. You need\n",
    "to name attributes with a double underscore prefix, and those attributes then are not\n",
    "be directly visible to outsiders.\n",
    "\n",
    "### Example"
   ]
  },
  {
   "cell_type": "code",
   "execution_count": 23,
   "metadata": {},
   "outputs": [
    {
     "name": "stdout",
     "output_type": "stream",
     "text": [
      "1\n",
      "2\n"
     ]
    },
    {
     "ename": "AttributeError",
     "evalue": "'JustCounter' object has no attribute '__secretCount'",
     "output_type": "error",
     "traceback": [
      "\u001b[1;31m---------------------------------------------------------------------------\u001b[0m",
      "\u001b[1;31mAttributeError\u001b[0m                            Traceback (most recent call last)",
      "\u001b[1;32m<ipython-input-23-3f4577955f91>\u001b[0m in \u001b[0;36m<module>\u001b[1;34m\u001b[0m\n\u001b[0;32m      8\u001b[0m \u001b[0mcounter\u001b[0m\u001b[1;33m.\u001b[0m\u001b[0mcount\u001b[0m\u001b[1;33m(\u001b[0m\u001b[1;33m)\u001b[0m\u001b[1;33m\u001b[0m\u001b[1;33m\u001b[0m\u001b[0m\n\u001b[0;32m      9\u001b[0m \u001b[0mcounter\u001b[0m\u001b[1;33m.\u001b[0m\u001b[0mcount\u001b[0m\u001b[1;33m(\u001b[0m\u001b[1;33m)\u001b[0m\u001b[1;33m\u001b[0m\u001b[1;33m\u001b[0m\u001b[0m\n\u001b[1;32m---> 10\u001b[1;33m \u001b[0mprint\u001b[0m\u001b[1;33m(\u001b[0m\u001b[0mcounter\u001b[0m\u001b[1;33m.\u001b[0m\u001b[0m__secretCount\u001b[0m\u001b[1;33m)\u001b[0m\u001b[1;33m\u001b[0m\u001b[1;33m\u001b[0m\u001b[0m\n\u001b[0m",
      "\u001b[1;31mAttributeError\u001b[0m: 'JustCounter' object has no attribute '__secretCount'"
     ]
    }
   ],
   "source": [
    "class JustCounter:\n",
    "    __secretCount = 0\n",
    "\n",
    "    def count(self):\n",
    "        self.__secretCount += 1\n",
    "        print(self.__secretCount)\n",
    "counter = JustCounter()\n",
    "counter.count()\n",
    "counter.count()\n",
    "print(counter.__secretCount)"
   ]
  }
 ],
 "metadata": {
  "kernelspec": {
   "display_name": "Python 3",
   "language": "python",
   "name": "python3"
  },
  "language_info": {
   "codemirror_mode": {
    "name": "ipython",
    "version": 3
   },
   "file_extension": ".py",
   "mimetype": "text/x-python",
   "name": "python",
   "nbconvert_exporter": "python",
   "pygments_lexer": "ipython3",
   "version": "3.8.0"
  }
 },
 "nbformat": 4,
 "nbformat_minor": 4
}
