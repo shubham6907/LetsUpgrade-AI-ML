{
 "cells": [
  {
   "cell_type": "raw",
   "metadata": {},
   "source": [
    "Write a Python program to find the first 20 non-even prime natural numbers"
   ]
  },
  {
   "cell_type": "code",
   "execution_count": 2,
   "metadata": {},
   "outputs": [
    {
     "name": "stdout",
     "output_type": "stream",
     "text": [
      "Prime numbers between 1 and 20 are:\n",
      "3\n",
      "5\n",
      "7\n",
      "11\n",
      "13\n",
      "17\n",
      "19\n"
     ]
    }
   ],
   "source": [
    "print(\"Prime numbers between\", 1, \"and\", 20, \"are:\")\n",
    "for num in range(1, 21, 1):\n",
    "    if num%2!=0:\n",
    "        if num > 1:\n",
    "            for i in range(2, num):\n",
    "                if (num % i) == 0:\n",
    "                    break\n",
    "            else:\n",
    "                print(num)"
   ]
  },
  {
   "cell_type": "raw",
   "metadata": {},
   "source": [
    "Write a Python program to implement 15 functions of string"
   ]
  },
  {
   "cell_type": "code",
   "execution_count": 3,
   "metadata": {},
   "outputs": [
    {
     "name": "stdout",
     "output_type": "stream",
     "text": [
      "Python\n",
      "python\n",
      "PYTHON\n",
      "PYTHON\n",
      "Python\n",
      "1\n",
      "True\n",
      "False\n",
      "False\n",
      "False\n",
      "False\n",
      "True\n",
      "True\n",
      "*******python*******\n",
      "['python']\n"
     ]
    }
   ],
   "source": [
    "var = 'python'\n",
    "print (var.capitalize())\n",
    "print (var.lower())\n",
    "print (var.upper())\n",
    "print (var.swapcase())\n",
    "print (var.title())\n",
    "print (var.count('o'))\n",
    "print (var.islower())\n",
    "print (var.isupper())\n",
    "print (var.isdecimal())\n",
    "print (var.isdigit())\n",
    "print (var.isnumeric())\n",
    "print (var.isalpha())\n",
    "print (var.isalnum())\n",
    "print (var.center(20,'*'))\n",
    "print (var.split())"
   ]
  },
  {
   "cell_type": "raw",
   "metadata": {},
   "source": [
    "Write a Python program to check if the given string is a Palindrome or Anagram or None of them. Display\n",
    "the message accordingly to the user"
   ]
  },
  {
   "cell_type": "code",
   "execution_count": 14,
   "metadata": {},
   "outputs": [
    {
     "name": "stdout",
     "output_type": "stream",
     "text": [
      "It is anagram\n",
      "It is palindrome\n"
     ]
    }
   ],
   "source": [
    "string=\"malayalam\"\n",
    "def check_string(str):\n",
    "    list_str1 = list(str)\n",
    "    list_str1.sort()\n",
    "    list_str2 = list(str)\n",
    "    list_str2.sort()\n",
    "    if list_str1 == list_str2:\n",
    "        print(\"It is anagram\")\n",
    "    else:\n",
    "        print(\"It is not anagram\")\n",
    "    \n",
    "    if str == str[::-1]:\n",
    "        print(\"It is palindrome\")\n",
    "    else:\n",
    "        print(\"It is not palindrome\")\n",
    "        \n",
    "check_string(string)"
   ]
  },
  {
   "cell_type": "raw",
   "metadata": {},
   "source": [
    "Write a Python's user-defined function that removes all the additional characters from the string and\n",
    "convert it finally to lower case using built-in lower(). eg: If the string is \"Dr. Darshan Ingle @AIML Trainer\",\n",
    "then the output be \"drdarshaningleaimltrainer\""
   ]
  },
  {
   "cell_type": "code",
   "execution_count": 11,
   "metadata": {},
   "outputs": [
    {
     "name": "stdout",
     "output_type": "stream",
     "text": [
      "mrshubham"
     ]
    }
   ],
   "source": [
    "s=\"Mr. Shubham\"\n",
    "def my_func(s):\n",
    "    for i in s:\n",
    "        if i.isalpha():\n",
    "            i=i.lower()\n",
    "            print(i,end=\"\")\n",
    "\n",
    "my_func(s)\n",
    "        "
   ]
  }
 ],
 "metadata": {
  "kernelspec": {
   "display_name": "Python 3",
   "language": "python",
   "name": "python3"
  },
  "language_info": {
   "codemirror_mode": {
    "name": "ipython",
    "version": 3
   },
   "file_extension": ".py",
   "mimetype": "text/x-python",
   "name": "python",
   "nbconvert_exporter": "python",
   "pygments_lexer": "ipython3",
   "version": "3.8.0"
  }
 },
 "nbformat": 4,
 "nbformat_minor": 4
}
