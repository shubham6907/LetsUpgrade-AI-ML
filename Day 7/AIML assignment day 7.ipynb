{
 "cells": [
  {
   "cell_type": "markdown",
   "metadata": {},
   "source": [
    "## Question 1:\n",
    "Write a program to copy the contents of one file to another using a for loop. (Don’t use built-in copy\n",
    "function)"
   ]
  },
  {
   "cell_type": "code",
   "execution_count": 15,
   "metadata": {},
   "outputs": [
    {
     "name": "stdout",
     "output_type": "stream",
     "text": [
      "Hi, i'm shubham\n"
     ]
    }
   ],
   "source": [
    "f=open(\"assignment day 7.txt\",\"r\")\n",
    "f2=open(\"assignment day 7 op.txt\",\"w\")\n",
    "s=str(f.read())\n",
    "f2.write(s)\n",
    "f.close()\n",
    "f2.close()\n",
    "print(s)\n"
   ]
  },
  {
   "cell_type": "markdown",
   "metadata": {},
   "source": [
    "## Question 2:\n",
    "Write a Python program to find maximum and minimum values in the dictionary. Do not use built-in min\n",
    "and max functions."
   ]
  },
  {
   "cell_type": "code",
   "execution_count": 14,
   "metadata": {},
   "outputs": [
    {
     "name": "stdout",
     "output_type": "stream",
     "text": [
      "max is  7\n",
      "min is  2\n"
     ]
    }
   ],
   "source": [
    "d={1:4,2:3,3:7,4:2}\n",
    "num=d[1]\n",
    "for k,v in d.items():\n",
    "    if v>num:\n",
    "        maximum=v\n",
    "    if v<num:\n",
    "        minimum=v\n",
    "print(\"max is \",maximum)\n",
    "print(\"min is \",minimum)\n",
    "    "
   ]
  }
 ],
 "metadata": {
  "kernelspec": {
   "display_name": "Python 3",
   "language": "python",
   "name": "python3"
  },
  "language_info": {
   "codemirror_mode": {
    "name": "ipython",
    "version": 3
   },
   "file_extension": ".py",
   "mimetype": "text/x-python",
   "name": "python",
   "nbconvert_exporter": "python",
   "pygments_lexer": "ipython3",
   "version": "3.8.0"
  }
 },
 "nbformat": 4,
 "nbformat_minor": 4
}
